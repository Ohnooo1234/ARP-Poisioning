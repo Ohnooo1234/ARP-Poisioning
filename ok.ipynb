def sum_even_numbers(n):
    """
    Hàm tính tổng các số chẵn từ 0 đến n
    """
    total = 0
    for i in range(n + 1):
        if i % 2 == 0:  # Kiểm tra số chẵn
            total += i
    return total

# Sử dụng
n = int(input("Nhập một số nguyên: "))
result = sum_even_numbers(n)
print(f"Tổng các số chẵn từ 0 đến {n} là: {result}")
