# File mới được tạo từ Colab
print('Hello from Colab')# File mới được tạo từ Colab
print('Hello from Colab')# File mới được tạo từ Colab
print('Hello from Colab')